{
 "cells": [
  {
   "cell_type": "code",
   "execution_count": null,
   "metadata": {},
   "outputs": [],
   "source": [
    "#importing libraries\n",
    "import pandas as pd \n",
    "from sklearn import * \n",
    "from sklearn import metrics \n",
    "import numpy as np"
   ]
  },
  {
   "cell_type": "code",
   "execution_count": null,
   "metadata": {},
   "outputs": [],
   "source": [
    "#reading data from .cs file\n",
    "data=pd.read_csv('weath.csv') \n",
    "df = pd.DataFrame(data)"
   ]
  },
  {
   "cell_type": "code",
   "execution_count": null,
   "metadata": {},
   "outputs": [],
   "source": [
    "#top 5 raws of dataset\n",
    "data.head()"
   ]
  },
  {
   "cell_type": "code",
   "execution_count": null,
   "metadata": {},
   "outputs": [],
   "source": [
    "#bottom 5 rows of dataset\n",
    "data.tail()"
   ]
  },
  {
   "cell_type": "code",
   "execution_count": null,
   "metadata": {},
   "outputs": [],
   "source": [
    "#setting target variable for test-train split\n",
    "x0=df.drop('Rice',axis=1) \n",
    "x0=x0.drop('Wheat',axis=1) \n",
    "x0=x0.drop('Cotton',axis=1)\n",
    "x0=x0.drop('Date',axis=1) \n",
    "\n",
    "y0=df.Rice \n",
    "y1=df.Wheat\n",
    "y2=df.Cotton"
   ]
  },
  {
   "cell_type": "code",
   "execution_count": null,
   "metadata": {},
   "outputs": [],
   "source": [
    "#test-train split for all the crops\n",
    "from sklearn.model_selection import train_test_split\n",
    "X_train0, X_test0, y_train0, y_test0 = train_test_split(x0,y0, test_size=0.1) \n",
    "X_train1, X_test1, y_train1, y_test1 = train_test_split(x0,y1, test_size=0.1)\n",
    "X_train2, X_test2, y_train2, y_test2 = train_test_split(x0,y2, test_size=0.1)\n"
   ]
  },
  {
   "cell_type": "code",
   "execution_count": null,
   "metadata": {},
   "outputs": [],
   "source": [
    "#temperature vs date line plot\n",
    "from bokeh.plotting import figure,output_file,show\n",
    "output_file(\"file.html\")\n",
    "x=list(data['Date'])\n",
    "y=list(data['Temperature (K)'])\n",
    "def remv(string):\n",
    "    newstr = string[:4]\n",
    "    return newstr\n",
    "\n",
    "for i in range(len(x)):\n",
    "    name=remv(x[i])\n",
    "    x[i]=name\n",
    "from bokeh.plotting import figure, output_notebook, show\n",
    "#output_notebook()\n",
    "p = figure(x_axis_label='Year',y_axis_type='log',y_axis_label='Temperature')\n",
    "p.line(x,y, line_width=1,color='green')\n",
    "show(p)"
   ]
  },
  {
   "cell_type": "code",
   "execution_count": null,
   "metadata": {},
   "outputs": [],
   "source": [
    "#Relative humidity vs date line plot\n",
    "x=list(data['Date'])\n",
    "y=list(data['Relative Humidity (%)'])\n",
    "def remv(string):\n",
    "    newstr = string[:4]\n",
    "    return newstr\n",
    "\n",
    "for i in range(len(x)):\n",
    "    name=remv(x[i])\n",
    "    x[i]=name\n",
    "from bokeh.plotting import figure, output_notebook, show\n",
    "#output_notebook()\n",
    "p = figure(x_axis_label='Year',y_axis_label='Relative Humidity (%)')\n",
    "p.line(x,y, line_width=1,color='red')\n",
    "show(p)"
   ]
  },
  {
   "cell_type": "code",
   "execution_count": null,
   "metadata": {},
   "outputs": [],
   "source": [
    "#Rainfall vs date line plot\n",
    "x=list(data['Date'])\n",
    "y=list(data['Rainfall (kg/m2)'])\n",
    "def remv(string):\n",
    "    newstr = string[:4]\n",
    "    return newstr\n",
    "\n",
    "for i in range(len(x)):\n",
    "    name=remv(x[i])\n",
    "    x[i]=name\n",
    "from bokeh.plotting import figure, output_notebook, show\n",
    "#output_notebook()\n",
    "p = figure(x_axis_label='Year',y_axis_label='Rainfall (kg/m2)')\n",
    "p.line(x,y, line_width=1,color='blue')\n",
    "\n",
    "show(p)"
   ]
  },
  {
   "cell_type": "code",
   "execution_count": null,
   "metadata": {},
   "outputs": [],
   "source": [
    "\n",
    "from sklearn.naive_bayes import GaussianNB \n",
    "gnb = GaussianNB()\n",
    "gnb1 = GaussianNB() \n",
    "gnb2 = GaussianNB()\n",
    "\n",
    "#Fitting the train data"
    "gnb.fit(X_train0,y_train0) \n",
    "gnb1.fit(X_train1,y_train1)\n",
    "gnb2.fit(X_train2,y_train2)\n",
    "\n",
    "#user input for temperature, humidity, and rainfall\n",
    "temp=float(input(\"Enter the temperature in kelvin: \"))\n",
    "humidity=float(input(\"Enter the humidity in %: \"))\n",
    "rain=float(input(\"Enter the rainfall in kg/m2/day: \"))\n",
    "\n",
    "Crop=int(input(\"Enter the necessary crop : 1 for Rice, 2 for Wheat, 3 for Cotton: \"))\n",
    "if Crop==1 : \n",
    "    pred=gnb.predict([[temp,humidity,rain]]) \n",
    "    prob=gnb.predict_proba([[temp,humidity,rain]]) \n",
    "    print(\"Predicted values of given samples is : \",pred) \n",
    "    print(\"The probability of predicting that Rice cannot be grown for the input is : \",prob[:,0]) \n",
    "    print(\"The probability of predicting Rice can be grown for the input is : \",prob[:,1])\n",
    "\n",
    "elif Crop==2 : \n",
    "    pred=gnb1.predict([[temp,humidity,rain]]) \n",
    "    prob=gnb1.predict_proba([[temp,humidity,rain]]) \n",
    "    print(\"Predicted values of given samples is : \",pred) \n",
    "    print(\"The probability of predicting that Wheat cannot be grown for the input is : \",prob[:,0]) \n",
    "    print(\"The probability of predicting Wheat can be grown for the input is : \",prob[:,1])\n",
    "\n",
    "elif Crop==3 : \n",
    "    pred=gnb2.predict([[temp,humidity,rain]]) \n",
    "    prob=gnb2.predict_proba([[temp,humidity,rain]]) \n",
    "    print(\"Predicted values of given samples is : \",pred) \n",
    "    print(\"The probability of predicting that Cotton cannot be grown for the input is : \",prob[:,0]) \n",
    "    print(\"The probability of predicting Cotton can be grown for the input is : \",prob[:,1])\n",
    "\n",
    "else: \n",
    "    print(\"Invalid input\") \n",
    "    exit(0)\n",
    "\n"
   ]
  }
 ],
 "metadata": {
  "kernelspec": {
   "display_name": "Python 3",
   "language": "python",
   "name": "python3"
  },
  "language_info": {
   "codemirror_mode": {
    "name": "ipython",
    "version": 3
   },
   "file_extension": ".py",
   "mimetype": "text/x-python",
   "name": "python",
   "nbconvert_exporter": "python",
   "pygments_lexer": "ipython3",
   "version": "3.7.6"
  }
 },
 "nbformat": 4,
 "nbformat_minor": 2
}
